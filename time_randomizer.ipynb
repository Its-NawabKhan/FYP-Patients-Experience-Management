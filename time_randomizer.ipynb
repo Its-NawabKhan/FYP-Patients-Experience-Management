{
 "cells": [
  {
   "cell_type": "code",
   "execution_count": null,
   "metadata": {},
   "outputs": [],
   "source": [
    "import numpy as np\n",
    "import pandas as pd\n",
    "import datetime"
   ]
  },
  {
   "cell_type": "code",
   "execution_count": null,
   "metadata": {},
   "outputs": [],
   "source": [
    "def time_generator(n):\n",
    "    time_vals = np.round(np.random.random(n)*86399, 0)\n",
    "    new_time_list = []\n",
    "    for each in time_vals:\n",
    "        new_time_list.append(str(datetime.timedelta(seconds=each)))\n",
    "    return new_time_list"
   ]
  },
  {
   "cell_type": "code",
   "execution_count": null,
   "metadata": {},
   "outputs": [],
   "source": [
    "def add_time(x, y):\n",
    "    init_time = datetime.datetime.strptime(x, '%H:%M:%S')\n",
    "    time_del = datetime.timedelta(hours= init_time.hour, minutes=init_time.minute, seconds=init_time.second).total_seconds()\n",
    "    next_time_secs = time_del + y\n",
    "    if next_time_secs > 86399:\n",
    "        next_time_secs = next_time_secs - 86400\n",
    "    new_time = str(datetime.timedelta(seconds=next_time_secs))\n",
    "    return new_time"
   ]
  },
  {
   "cell_type": "code",
   "execution_count": null,
   "metadata": {},
   "outputs": [],
   "source": [
    "def gen_wait_time(mu, std, num):\n",
    "    wait_time = np.round(np.random.normal(mu, std, num)*60, 0)\n",
    "    for each in range(len(wait_time)):\n",
    "        if ((wait_time[each] < 15) and (wait_time[each] > 0)):\n",
    "            wait_time[each] = wait_time[each]+10\n",
    "        elif (wait_time[each] <= 0):\n",
    "            wait_time[each] = wait_time[each]*(-1)\n",
    "    return wait_time"
   ]
  },
  {
   "cell_type": "code",
   "execution_count": null,
   "metadata": {},
   "outputs": [],
   "source": [
    "df_time = pd.DataFrame()"
   ]
  },
  {
   "cell_type": "code",
   "execution_count": null,
   "metadata": {},
   "outputs": [],
   "source": [
    "df_time['arrival'] = time_generator(2000)"
   ]
  },
  {
   "cell_type": "code",
   "execution_count": null,
   "metadata": {},
   "outputs": [],
   "source": [
    "df_time['parking_entry'] = 0\n",
    "df_time['kiosk'] = 0\n",
    "df_time['department_entrance'] = 0\n",
    "df_time['department_exit'] = 0\n",
    "df_time['parking_exit'] = 0\n",
    "df_time['departure'] = 0"
   ]
  },
  {
   "cell_type": "code",
   "execution_count": null,
   "metadata": {},
   "outputs": [],
   "source": [
    "parking_wait = gen_wait_time(5, 2, 2000)"
   ]
  },
  {
   "cell_type": "code",
   "execution_count": null,
   "metadata": {},
   "outputs": [],
   "source": [
    "for i in range(df_time.shape[0]):\n",
    "    df_time['parking_entry'][i] = add_time(df_time['arrival'][i], parking_wait[i])"
   ]
  }
 ],
 "metadata": {
  "kernelspec": {
   "display_name": "Python 3",
   "language": "python",
   "name": "python3"
  },
  "language_info": {
   "codemirror_mode": {
    "name": "ipython",
    "version": 3
   },
   "file_extension": ".py",
   "mimetype": "text/x-python",
   "name": "python",
   "nbconvert_exporter": "python",
   "pygments_lexer": "ipython3",
   "version": "3.8.5"
  }
 },
 "nbformat": 4,
 "nbformat_minor": 4
}
