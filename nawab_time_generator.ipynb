{
 "cells": [
  {
   "cell_type": "code",
   "execution_count": 1,
   "metadata": {},
   "outputs": [],
   "source": [
    "import numpy as np\n",
    "import pandas as pd\n",
    "import datetime"
   ]
  },
  {
   "cell_type": "code",
   "execution_count": 2,
   "metadata": {},
   "outputs": [],
   "source": [
    "def time_generator(n):\n",
    "    time_vals = np.round(np.random.random(n)*86399, 0)\n",
    "    new_time_list = []\n",
    "    for each in time_vals:\n",
    "        new_time_list.append(str(datetime.timedelta(seconds=each)))\n",
    "    return new_time_list"
   ]
  },
  {
   "cell_type": "code",
   "execution_count": 3,
   "metadata": {},
   "outputs": [],
   "source": [
    "def add_time(x, y):\n",
    "    init_time = datetime.datetime.strptime(x, '%H:%M:%S')\n",
    "    time_del = datetime.timedelta(hours= init_time.hour, minutes=init_time.minute, seconds=init_time.second).total_seconds()\n",
    "    next_time_secs = time_del + y\n",
    "    if next_time_secs > 86399:\n",
    "        next_time_secs = next_time_secs - 86400\n",
    "    new_time = str(datetime.timedelta(seconds=next_time_secs))\n",
    "    return new_time"
   ]
  },
  {
   "cell_type": "code",
   "execution_count": 4,
   "metadata": {},
   "outputs": [],
   "source": [
    "def diff_time(x, y):\n",
    "    init_time = datetime.datetime.strptime(x, '%H:%M:%S')\n",
    "    time_del1 = datetime.timedelta(hours= init_time.hour, minutes=init_time.minute, seconds=init_time.second).total_seconds()\n",
    "\n",
    "    init_time = datetime.datetime.strptime(y, '%H:%M:%S')\n",
    "    time_del2 = datetime.timedelta(hours= init_time.hour, minutes=init_time.minute, seconds=init_time.second).total_seconds()\n",
    "    if (time_del1 < time_del2):\n",
    "        time_secs = time_del1 - time_del2 + 86400\n",
    "    else:\n",
    "        time_secs = time_del1 - time_del2\n",
    "        \n",
    "    new_time = str(datetime.timedelta(seconds=time_secs))\n",
    "    return new_time"
   ]
  },
  {
   "cell_type": "code",
   "execution_count": 5,
   "metadata": {},
   "outputs": [],
   "source": [
    "def gen_wait_time(mu, std, num):\n",
    "    wait_time = np.round(np.random.normal(mu, std, num)*60, 0)\n",
    "    for each in range(len(wait_time)):\n",
    "        if ((wait_time[each] < 15) and (wait_time[each] > 0)):\n",
    "            wait_time[each] = wait_time[each]+10\n",
    "        elif (wait_time[each] <= 0):\n",
    "            wait_time[each] = wait_time[each]*(-1)\n",
    "    return wait_time"
   ]
  },
  {
   "cell_type": "code",
   "execution_count": 6,
   "metadata": {},
   "outputs": [],
   "source": [
    "df_time = pd.DataFrame()"
   ]
  },
  {
   "cell_type": "code",
   "execution_count": 7,
   "metadata": {
    "scrolled": true
   },
   "outputs": [],
   "source": [
    "df_time['arrival'] = time_generator(2000)"
   ]
  },
  {
   "cell_type": "code",
   "execution_count": 8,
   "metadata": {},
   "outputs": [],
   "source": [
    "df_time['parking_entry'] = 0\n",
    "df_time['kiosk'] = 0\n",
    "df_time['department_entrance'] = 0\n",
    "df_time['department_exit'] = 0\n",
    "df_time['parking_exit'] = 0\n",
    "df_time['departure'] = 0\n",
    "df_time['visit_time'] = 0"
   ]
  },
  {
   "cell_type": "code",
   "execution_count": 9,
   "metadata": {
    "scrolled": true
   },
   "outputs": [],
   "source": [
    "parking_wait = gen_wait_time(5, 2, 2000)"
   ]
  },
  {
   "cell_type": "code",
   "execution_count": 10,
   "metadata": {},
   "outputs": [
    {
     "name": "stderr",
     "output_type": "stream",
     "text": [
      "<ipython-input-10-6d958e77733f>:2: SettingWithCopyWarning: \n",
      "A value is trying to be set on a copy of a slice from a DataFrame\n",
      "\n",
      "See the caveats in the documentation: https://pandas.pydata.org/pandas-docs/stable/user_guide/indexing.html#returning-a-view-versus-a-copy\n",
      "  df_time['parking_entry'][i] = add_time(df_time['arrival'][i], parking_wait[i])\n",
      "C:\\Users\\KHAN\\anaconda3\\lib\\site-packages\\pandas\\core\\indexing.py:1637: SettingWithCopyWarning: \n",
      "A value is trying to be set on a copy of a slice from a DataFrame\n",
      "\n",
      "See the caveats in the documentation: https://pandas.pydata.org/pandas-docs/stable/user_guide/indexing.html#returning-a-view-versus-a-copy\n",
      "  self._setitem_single_block(indexer, value, name)\n"
     ]
    }
   ],
   "source": [
    "for i in range(df_time.shape[0]):\n",
    "    df_time['parking_entry'][i] = add_time(df_time['arrival'][i], parking_wait[i])"
   ]
  },
  {
   "cell_type": "code",
   "execution_count": 11,
   "metadata": {
    "scrolled": true
   },
   "outputs": [],
   "source": [
    "kiosk_wait = gen_wait_time(10, 2, 2000)"
   ]
  },
  {
   "cell_type": "code",
   "execution_count": 12,
   "metadata": {},
   "outputs": [
    {
     "name": "stderr",
     "output_type": "stream",
     "text": [
      "<ipython-input-12-e8412c845ae4>:2: SettingWithCopyWarning: \n",
      "A value is trying to be set on a copy of a slice from a DataFrame\n",
      "\n",
      "See the caveats in the documentation: https://pandas.pydata.org/pandas-docs/stable/user_guide/indexing.html#returning-a-view-versus-a-copy\n",
      "  df_time['kiosk'][i] = add_time(df_time['parking_entry'][i], kiosk_wait[i])\n"
     ]
    }
   ],
   "source": [
    "for i in range(df_time.shape[0]):\n",
    "    df_time['kiosk'][i] = add_time(df_time['parking_entry'][i], kiosk_wait[i])"
   ]
  },
  {
   "cell_type": "code",
   "execution_count": 13,
   "metadata": {
    "scrolled": true
   },
   "outputs": [],
   "source": [
    "dept_ent_wait = gen_wait_time(20, 2, 2000)"
   ]
  },
  {
   "cell_type": "code",
   "execution_count": 14,
   "metadata": {},
   "outputs": [
    {
     "name": "stderr",
     "output_type": "stream",
     "text": [
      "<ipython-input-14-a8e5f9c79418>:2: SettingWithCopyWarning: \n",
      "A value is trying to be set on a copy of a slice from a DataFrame\n",
      "\n",
      "See the caveats in the documentation: https://pandas.pydata.org/pandas-docs/stable/user_guide/indexing.html#returning-a-view-versus-a-copy\n",
      "  df_time['department_entrance'][i] = add_time(df_time['kiosk'][i], dept_ent_wait[i])\n"
     ]
    }
   ],
   "source": [
    "for i in range(df_time.shape[0]):\n",
    "    df_time['department_entrance'][i] = add_time(df_time['kiosk'][i], dept_ent_wait[i])"
   ]
  },
  {
   "cell_type": "code",
   "execution_count": 15,
   "metadata": {
    "scrolled": true
   },
   "outputs": [],
   "source": [
    "dept_ext_wait = gen_wait_time(45, 2, 2000)"
   ]
  },
  {
   "cell_type": "code",
   "execution_count": 16,
   "metadata": {},
   "outputs": [
    {
     "name": "stderr",
     "output_type": "stream",
     "text": [
      "<ipython-input-16-47d2e54daa99>:2: SettingWithCopyWarning: \n",
      "A value is trying to be set on a copy of a slice from a DataFrame\n",
      "\n",
      "See the caveats in the documentation: https://pandas.pydata.org/pandas-docs/stable/user_guide/indexing.html#returning-a-view-versus-a-copy\n",
      "  df_time['department_exit'][i] = add_time(df_time['department_entrance'][i], dept_ext_wait[i])\n"
     ]
    }
   ],
   "source": [
    "for i in range(df_time.shape[0]):\n",
    "    df_time['department_exit'][i] = add_time(df_time['department_entrance'][i], dept_ext_wait[i])"
   ]
  },
  {
   "cell_type": "code",
   "execution_count": 17,
   "metadata": {
    "scrolled": true
   },
   "outputs": [],
   "source": [
    "parking_ext_wait = gen_wait_time(10, 2, 2000)"
   ]
  },
  {
   "cell_type": "code",
   "execution_count": 18,
   "metadata": {},
   "outputs": [
    {
     "name": "stderr",
     "output_type": "stream",
     "text": [
      "<ipython-input-18-0652e63f37ee>:2: SettingWithCopyWarning: \n",
      "A value is trying to be set on a copy of a slice from a DataFrame\n",
      "\n",
      "See the caveats in the documentation: https://pandas.pydata.org/pandas-docs/stable/user_guide/indexing.html#returning-a-view-versus-a-copy\n",
      "  df_time['parking_exit'][i] = add_time(df_time['department_exit'][i], parking_ext_wait[i])\n"
     ]
    }
   ],
   "source": [
    "for i in range(df_time.shape[0]):\n",
    "    df_time['parking_exit'][i] = add_time(df_time['department_exit'][i], parking_ext_wait[i])"
   ]
  },
  {
   "cell_type": "code",
   "execution_count": 19,
   "metadata": {
    "scrolled": true
   },
   "outputs": [],
   "source": [
    "departure_wait = gen_wait_time(5, 2, 2000)"
   ]
  },
  {
   "cell_type": "code",
   "execution_count": 20,
   "metadata": {},
   "outputs": [
    {
     "name": "stderr",
     "output_type": "stream",
     "text": [
      "<ipython-input-20-07ff92a463cf>:2: SettingWithCopyWarning: \n",
      "A value is trying to be set on a copy of a slice from a DataFrame\n",
      "\n",
      "See the caveats in the documentation: https://pandas.pydata.org/pandas-docs/stable/user_guide/indexing.html#returning-a-view-versus-a-copy\n",
      "  df_time['departure'][i] = add_time(df_time['parking_exit'][i], departure_wait[i])\n"
     ]
    }
   ],
   "source": [
    "for i in range(df_time.shape[0]):\n",
    "    df_time['departure'][i] = add_time(df_time['parking_exit'][i], departure_wait[i])"
   ]
  },
  {
   "cell_type": "code",
   "execution_count": 21,
   "metadata": {},
   "outputs": [
    {
     "name": "stderr",
     "output_type": "stream",
     "text": [
      "<ipython-input-21-b741aa16477a>:2: SettingWithCopyWarning: \n",
      "A value is trying to be set on a copy of a slice from a DataFrame\n",
      "\n",
      "See the caveats in the documentation: https://pandas.pydata.org/pandas-docs/stable/user_guide/indexing.html#returning-a-view-versus-a-copy\n",
      "  df_time['visit_time'][i] = diff_time(df_time['departure'][i], df_time['arrival'][i])\n"
     ]
    }
   ],
   "source": [
    "for i in range(df_time.shape[0]):\n",
    "    df_time['visit_time'][i] = diff_time(df_time['departure'][i], df_time['arrival'][i])"
   ]
  },
  {
   "cell_type": "code",
   "execution_count": 22,
   "metadata": {},
   "outputs": [
    {
     "data": {
      "text/html": [
       "<div>\n",
       "<style scoped>\n",
       "    .dataframe tbody tr th:only-of-type {\n",
       "        vertical-align: middle;\n",
       "    }\n",
       "\n",
       "    .dataframe tbody tr th {\n",
       "        vertical-align: top;\n",
       "    }\n",
       "\n",
       "    .dataframe thead th {\n",
       "        text-align: right;\n",
       "    }\n",
       "</style>\n",
       "<table border=\"1\" class=\"dataframe\">\n",
       "  <thead>\n",
       "    <tr style=\"text-align: right;\">\n",
       "      <th></th>\n",
       "      <th>arrival</th>\n",
       "      <th>parking_entry</th>\n",
       "      <th>kiosk</th>\n",
       "      <th>department_entrance</th>\n",
       "      <th>department_exit</th>\n",
       "      <th>parking_exit</th>\n",
       "      <th>departure</th>\n",
       "      <th>visit_time</th>\n",
       "    </tr>\n",
       "  </thead>\n",
       "  <tbody>\n",
       "    <tr>\n",
       "      <th>0</th>\n",
       "      <td>6:22:24</td>\n",
       "      <td>6:29:34</td>\n",
       "      <td>6:40:20</td>\n",
       "      <td>7:01:13</td>\n",
       "      <td>7:46:27</td>\n",
       "      <td>7:56:22</td>\n",
       "      <td>7:59:42</td>\n",
       "      <td>1:37:18</td>\n",
       "    </tr>\n",
       "    <tr>\n",
       "      <th>1</th>\n",
       "      <td>23:39:04</td>\n",
       "      <td>23:43:36</td>\n",
       "      <td>23:54:31</td>\n",
       "      <td>0:12:25</td>\n",
       "      <td>0:56:14</td>\n",
       "      <td>1:07:04</td>\n",
       "      <td>1:12:22</td>\n",
       "      <td>-1 day, 1:33:18</td>\n",
       "    </tr>\n",
       "    <tr>\n",
       "      <th>2</th>\n",
       "      <td>23:47:30</td>\n",
       "      <td>23:52:46</td>\n",
       "      <td>0:03:22</td>\n",
       "      <td>0:23:49</td>\n",
       "      <td>1:09:54</td>\n",
       "      <td>1:20:22</td>\n",
       "      <td>1:26:00</td>\n",
       "      <td>-1 day, 1:38:30</td>\n",
       "    </tr>\n",
       "    <tr>\n",
       "      <th>3</th>\n",
       "      <td>5:41:18</td>\n",
       "      <td>5:45:45</td>\n",
       "      <td>5:55:44</td>\n",
       "      <td>6:14:37</td>\n",
       "      <td>6:59:11</td>\n",
       "      <td>7:09:32</td>\n",
       "      <td>7:16:07</td>\n",
       "      <td>1:34:49</td>\n",
       "    </tr>\n",
       "    <tr>\n",
       "      <th>4</th>\n",
       "      <td>17:31:01</td>\n",
       "      <td>17:36:49</td>\n",
       "      <td>17:47:12</td>\n",
       "      <td>18:07:27</td>\n",
       "      <td>18:50:31</td>\n",
       "      <td>19:00:27</td>\n",
       "      <td>19:04:32</td>\n",
       "      <td>1:33:31</td>\n",
       "    </tr>\n",
       "    <tr>\n",
       "      <th>...</th>\n",
       "      <td>...</td>\n",
       "      <td>...</td>\n",
       "      <td>...</td>\n",
       "      <td>...</td>\n",
       "      <td>...</td>\n",
       "      <td>...</td>\n",
       "      <td>...</td>\n",
       "      <td>...</td>\n",
       "    </tr>\n",
       "    <tr>\n",
       "      <th>1995</th>\n",
       "      <td>22:13:54</td>\n",
       "      <td>22:19:26</td>\n",
       "      <td>22:30:05</td>\n",
       "      <td>22:50:55</td>\n",
       "      <td>23:36:47</td>\n",
       "      <td>23:47:21</td>\n",
       "      <td>23:52:39</td>\n",
       "      <td>1:38:45</td>\n",
       "    </tr>\n",
       "    <tr>\n",
       "      <th>1996</th>\n",
       "      <td>7:47:31</td>\n",
       "      <td>7:52:09</td>\n",
       "      <td>8:02:09</td>\n",
       "      <td>8:22:36</td>\n",
       "      <td>9:09:37</td>\n",
       "      <td>9:19:10</td>\n",
       "      <td>9:25:10</td>\n",
       "      <td>1:37:39</td>\n",
       "    </tr>\n",
       "    <tr>\n",
       "      <th>1997</th>\n",
       "      <td>6:56:26</td>\n",
       "      <td>7:01:19</td>\n",
       "      <td>7:11:43</td>\n",
       "      <td>7:31:14</td>\n",
       "      <td>8:16:58</td>\n",
       "      <td>8:26:25</td>\n",
       "      <td>8:31:26</td>\n",
       "      <td>1:35:00</td>\n",
       "    </tr>\n",
       "    <tr>\n",
       "      <th>1998</th>\n",
       "      <td>4:20:52</td>\n",
       "      <td>4:26:16</td>\n",
       "      <td>4:36:06</td>\n",
       "      <td>4:56:03</td>\n",
       "      <td>5:42:52</td>\n",
       "      <td>5:53:36</td>\n",
       "      <td>5:57:37</td>\n",
       "      <td>1:36:45</td>\n",
       "    </tr>\n",
       "    <tr>\n",
       "      <th>1999</th>\n",
       "      <td>7:25:31</td>\n",
       "      <td>7:29:13</td>\n",
       "      <td>7:38:54</td>\n",
       "      <td>7:59:24</td>\n",
       "      <td>8:41:51</td>\n",
       "      <td>8:51:24</td>\n",
       "      <td>8:56:27</td>\n",
       "      <td>1:30:56</td>\n",
       "    </tr>\n",
       "  </tbody>\n",
       "</table>\n",
       "<p>2000 rows × 8 columns</p>\n",
       "</div>"
      ],
      "text/plain": [
       "       arrival parking_entry     kiosk department_entrance department_exit  \\\n",
       "0      6:22:24       6:29:34   6:40:20             7:01:13         7:46:27   \n",
       "1     23:39:04      23:43:36  23:54:31             0:12:25         0:56:14   \n",
       "2     23:47:30      23:52:46   0:03:22             0:23:49         1:09:54   \n",
       "3      5:41:18       5:45:45   5:55:44             6:14:37         6:59:11   \n",
       "4     17:31:01      17:36:49  17:47:12            18:07:27        18:50:31   \n",
       "...        ...           ...       ...                 ...             ...   \n",
       "1995  22:13:54      22:19:26  22:30:05            22:50:55        23:36:47   \n",
       "1996   7:47:31       7:52:09   8:02:09             8:22:36         9:09:37   \n",
       "1997   6:56:26       7:01:19   7:11:43             7:31:14         8:16:58   \n",
       "1998   4:20:52       4:26:16   4:36:06             4:56:03         5:42:52   \n",
       "1999   7:25:31       7:29:13   7:38:54             7:59:24         8:41:51   \n",
       "\n",
       "     parking_exit departure       visit_time  \n",
       "0         7:56:22   7:59:42          1:37:18  \n",
       "1         1:07:04   1:12:22  -1 day, 1:33:18  \n",
       "2         1:20:22   1:26:00  -1 day, 1:38:30  \n",
       "3         7:09:32   7:16:07          1:34:49  \n",
       "4        19:00:27  19:04:32          1:33:31  \n",
       "...           ...       ...              ...  \n",
       "1995     23:47:21  23:52:39          1:38:45  \n",
       "1996      9:19:10   9:25:10          1:37:39  \n",
       "1997      8:26:25   8:31:26          1:35:00  \n",
       "1998      5:53:36   5:57:37          1:36:45  \n",
       "1999      8:51:24   8:56:27          1:30:56  \n",
       "\n",
       "[2000 rows x 8 columns]"
      ]
     },
     "execution_count": 22,
     "metadata": {},
     "output_type": "execute_result"
    }
   ],
   "source": [
    "df_time"
   ]
  },
  {
   "cell_type": "code",
   "execution_count": null,
   "metadata": {},
   "outputs": [],
   "source": []
  }
 ],
 "metadata": {
  "kernelspec": {
   "display_name": "Python 3",
   "language": "python",
   "name": "python3"
  },
  "language_info": {
   "codemirror_mode": {
    "name": "ipython",
    "version": 3
   },
   "file_extension": ".py",
   "mimetype": "text/x-python",
   "name": "python",
   "nbconvert_exporter": "python",
   "pygments_lexer": "ipython3",
   "version": "3.8.5"
  }
 },
 "nbformat": 4,
 "nbformat_minor": 4
}
