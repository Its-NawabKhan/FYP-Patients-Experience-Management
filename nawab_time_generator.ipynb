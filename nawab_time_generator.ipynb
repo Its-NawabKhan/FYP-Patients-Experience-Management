{
 "cells": [
  {
   "cell_type": "code",
   "execution_count": 129,
   "metadata": {},
   "outputs": [],
   "source": [
    "import numpy as np\n",
    "import pandas as pd\n",
    "import datetime"
   ]
  },
  {
   "cell_type": "code",
   "execution_count": 130,
   "metadata": {},
   "outputs": [],
   "source": [
    "def time_generator(n):\n",
    "    time_vals = np.round(np.random.random(n)*86399, 0)\n",
    "    new_time_list = []\n",
    "    for each in time_vals:\n",
    "        new_time_list.append(str(datetime.timedelta(seconds=each)))\n",
    "    return new_time_list"
   ]
  },
  {
   "cell_type": "code",
   "execution_count": 131,
   "metadata": {},
   "outputs": [],
   "source": [
    "def add_time(x, y):\n",
    "    init_time = datetime.datetime.strptime(x, '%H:%M:%S')\n",
    "    time_del = datetime.timedelta(hours= init_time.hour, minutes=init_time.minute, seconds=init_time.second).total_seconds()\n",
    "    next_time_secs = time_del + y\n",
    "    if next_time_secs > 86399:\n",
    "        next_time_secs = next_time_secs - 86400\n",
    "    new_time = str(datetime.timedelta(seconds=next_time_secs))\n",
    "    return new_time"
   ]
  },
  {
   "cell_type": "code",
   "execution_count": 132,
   "metadata": {},
   "outputs": [],
   "source": [
    "def diff_time(x, y):\n",
    "    init_time = datetime.datetime.strptime(x, '%H:%M:%S')\n",
    "    time_del1 = datetime.timedelta(hours= init_time.hour, minutes=init_time.minute, seconds=init_time.second).total_seconds()\n",
    "\n",
    "    init_time = datetime.datetime.strptime(y, '%H:%M:%S')\n",
    "    time_del2 = datetime.timedelta(hours= init_time.hour, minutes=init_time.minute, seconds=init_time.second).total_seconds()\n",
    "    if (time_del1 < time_del2):\n",
    "        time_secs = time_del1 - time_del2 + 86400\n",
    "    else:\n",
    "        time_secs = time_del1 - time_del2\n",
    "        \n",
    "    new_time = str(datetime.timedelta(seconds=time_secs))\n",
    "    return new_time"
   ]
  },
  {
   "cell_type": "code",
   "execution_count": 133,
   "metadata": {},
   "outputs": [],
   "source": [
    "def diff_time_minutes(x, y):\n",
    "    init_time = datetime.datetime.strptime(x, '%H:%M:%S')\n",
    "    time_del1 = datetime.timedelta(hours= init_time.hour, minutes=init_time.minute, seconds=init_time.second).total_seconds()\n",
    "\n",
    "    init_time = datetime.datetime.strptime(y, '%H:%M:%S')\n",
    "    time_del2 = datetime.timedelta(hours= init_time.hour, minutes=init_time.minute, seconds=init_time.second).total_seconds()\n",
    "    if (time_del1 < time_del2):\n",
    "        time_secs = time_del1 - time_del2 + 86400\n",
    "    else:\n",
    "        time_secs = time_del1 - time_del2\n",
    "    time_mins = time_secs/60\n",
    "    return time_mins"
   ]
  },
  {
   "cell_type": "code",
   "execution_count": 134,
   "metadata": {},
   "outputs": [],
   "source": [
    "def gen_wait_time(mu, std, num):\n",
    "    wait_time = np.round(np.random.normal(mu, std, num)*60, 0)\n",
    "    for each in range(len(wait_time)):\n",
    "        if ((wait_time[each] < 15) and (wait_time[each] > 0)):\n",
    "            wait_time[each] = wait_time[each]+10\n",
    "        elif (wait_time[each] <= 0):\n",
    "            wait_time[each] = wait_time[each]*(-1)\n",
    "    return wait_time"
   ]
  },
  {
   "cell_type": "code",
   "execution_count": 161,
   "metadata": {},
   "outputs": [],
   "source": [
    "df_time = pd.DataFrame()"
   ]
  },
  {
   "cell_type": "code",
   "execution_count": 162,
   "metadata": {},
   "outputs": [],
   "source": [
    "num_samples = 2000"
   ]
  },
  {
   "cell_type": "code",
   "execution_count": 163,
   "metadata": {
    "scrolled": true
   },
   "outputs": [],
   "source": [
    "df_time['arrival'] = time_generator(num_samples)"
   ]
  },
  {
   "cell_type": "code",
   "execution_count": 164,
   "metadata": {},
   "outputs": [],
   "source": [
    "df_time['parking_entry'] = 0\n",
    "df_time['kiosk'] = 0\n",
    "df_time['department_entrance'] = 0\n",
    "df_time['department_exit'] = 0\n",
    "df_time['parking_exit'] = 0\n",
    "df_time['departure'] = 0\n",
    "df_time['visit_time'] = 0"
   ]
  },
  {
   "cell_type": "code",
   "execution_count": 165,
   "metadata": {
    "scrolled": true
   },
   "outputs": [],
   "source": [
    "parking_wait = gen_wait_time(5, 1, num_samples)"
   ]
  },
  {
   "cell_type": "code",
   "execution_count": 166,
   "metadata": {},
   "outputs": [
    {
     "name": "stderr",
     "output_type": "stream",
     "text": [
      "<ipython-input-166-6d958e77733f>:2: SettingWithCopyWarning: \n",
      "A value is trying to be set on a copy of a slice from a DataFrame\n",
      "\n",
      "See the caveats in the documentation: https://pandas.pydata.org/pandas-docs/stable/user_guide/indexing.html#returning-a-view-versus-a-copy\n",
      "  df_time['parking_entry'][i] = add_time(df_time['arrival'][i], parking_wait[i])\n"
     ]
    }
   ],
   "source": [
    "for i in range(df_time.shape[0]):\n",
    "    df_time['parking_entry'][i] = add_time(df_time['arrival'][i], parking_wait[i])"
   ]
  },
  {
   "cell_type": "code",
   "execution_count": 167,
   "metadata": {
    "scrolled": true
   },
   "outputs": [],
   "source": [
    "kiosk_wait = gen_wait_time(10, 2, num_samples)"
   ]
  },
  {
   "cell_type": "code",
   "execution_count": 168,
   "metadata": {},
   "outputs": [
    {
     "name": "stderr",
     "output_type": "stream",
     "text": [
      "<ipython-input-168-e8412c845ae4>:2: SettingWithCopyWarning: \n",
      "A value is trying to be set on a copy of a slice from a DataFrame\n",
      "\n",
      "See the caveats in the documentation: https://pandas.pydata.org/pandas-docs/stable/user_guide/indexing.html#returning-a-view-versus-a-copy\n",
      "  df_time['kiosk'][i] = add_time(df_time['parking_entry'][i], kiosk_wait[i])\n"
     ]
    }
   ],
   "source": [
    "for i in range(df_time.shape[0]):\n",
    "    df_time['kiosk'][i] = add_time(df_time['parking_entry'][i], kiosk_wait[i])"
   ]
  },
  {
   "cell_type": "code",
   "execution_count": 169,
   "metadata": {
    "scrolled": true
   },
   "outputs": [],
   "source": [
    "dept_ent_wait = gen_wait_time(20, 4, num_samples)"
   ]
  },
  {
   "cell_type": "code",
   "execution_count": 170,
   "metadata": {},
   "outputs": [
    {
     "name": "stderr",
     "output_type": "stream",
     "text": [
      "<ipython-input-170-a8e5f9c79418>:2: SettingWithCopyWarning: \n",
      "A value is trying to be set on a copy of a slice from a DataFrame\n",
      "\n",
      "See the caveats in the documentation: https://pandas.pydata.org/pandas-docs/stable/user_guide/indexing.html#returning-a-view-versus-a-copy\n",
      "  df_time['department_entrance'][i] = add_time(df_time['kiosk'][i], dept_ent_wait[i])\n"
     ]
    }
   ],
   "source": [
    "for i in range(df_time.shape[0]):\n",
    "    df_time['department_entrance'][i] = add_time(df_time['kiosk'][i], dept_ent_wait[i])"
   ]
  },
  {
   "cell_type": "code",
   "execution_count": 171,
   "metadata": {
    "scrolled": true
   },
   "outputs": [],
   "source": [
    "dept_ext_wait = gen_wait_time(45, 6, num_samples)"
   ]
  },
  {
   "cell_type": "code",
   "execution_count": 172,
   "metadata": {},
   "outputs": [
    {
     "name": "stderr",
     "output_type": "stream",
     "text": [
      "<ipython-input-172-47d2e54daa99>:2: SettingWithCopyWarning: \n",
      "A value is trying to be set on a copy of a slice from a DataFrame\n",
      "\n",
      "See the caveats in the documentation: https://pandas.pydata.org/pandas-docs/stable/user_guide/indexing.html#returning-a-view-versus-a-copy\n",
      "  df_time['department_exit'][i] = add_time(df_time['department_entrance'][i], dept_ext_wait[i])\n"
     ]
    }
   ],
   "source": [
    "for i in range(df_time.shape[0]):\n",
    "    df_time['department_exit'][i] = add_time(df_time['department_entrance'][i], dept_ext_wait[i])"
   ]
  },
  {
   "cell_type": "code",
   "execution_count": 173,
   "metadata": {
    "scrolled": true
   },
   "outputs": [],
   "source": [
    "parking_ext_wait = gen_wait_time(10, 2, num_samples)"
   ]
  },
  {
   "cell_type": "code",
   "execution_count": 174,
   "metadata": {},
   "outputs": [
    {
     "name": "stderr",
     "output_type": "stream",
     "text": [
      "<ipython-input-174-0652e63f37ee>:2: SettingWithCopyWarning: \n",
      "A value is trying to be set on a copy of a slice from a DataFrame\n",
      "\n",
      "See the caveats in the documentation: https://pandas.pydata.org/pandas-docs/stable/user_guide/indexing.html#returning-a-view-versus-a-copy\n",
      "  df_time['parking_exit'][i] = add_time(df_time['department_exit'][i], parking_ext_wait[i])\n"
     ]
    }
   ],
   "source": [
    "for i in range(df_time.shape[0]):\n",
    "    df_time['parking_exit'][i] = add_time(df_time['department_exit'][i], parking_ext_wait[i])"
   ]
  },
  {
   "cell_type": "code",
   "execution_count": 175,
   "metadata": {
    "scrolled": true
   },
   "outputs": [],
   "source": [
    "departure_wait = gen_wait_time(5, 1, num_samples)"
   ]
  },
  {
   "cell_type": "code",
   "execution_count": 176,
   "metadata": {},
   "outputs": [
    {
     "name": "stderr",
     "output_type": "stream",
     "text": [
      "<ipython-input-176-07ff92a463cf>:2: SettingWithCopyWarning: \n",
      "A value is trying to be set on a copy of a slice from a DataFrame\n",
      "\n",
      "See the caveats in the documentation: https://pandas.pydata.org/pandas-docs/stable/user_guide/indexing.html#returning-a-view-versus-a-copy\n",
      "  df_time['departure'][i] = add_time(df_time['parking_exit'][i], departure_wait[i])\n"
     ]
    }
   ],
   "source": [
    "for i in range(df_time.shape[0]):\n",
    "    df_time['departure'][i] = add_time(df_time['parking_exit'][i], departure_wait[i])"
   ]
  },
  {
   "cell_type": "code",
   "execution_count": 177,
   "metadata": {},
   "outputs": [
    {
     "name": "stderr",
     "output_type": "stream",
     "text": [
      "<ipython-input-177-6d976526df0d>:2: SettingWithCopyWarning: \n",
      "A value is trying to be set on a copy of a slice from a DataFrame\n",
      "\n",
      "See the caveats in the documentation: https://pandas.pydata.org/pandas-docs/stable/user_guide/indexing.html#returning-a-view-versus-a-copy\n",
      "  df_time['visit_time'][i] = diff_time_minutes(df_time['departure'][i], df_time['arrival'][i])\n"
     ]
    }
   ],
   "source": [
    "for i in range(df_time.shape[0]):\n",
    "    df_time['visit_time'][i] = diff_time_minutes(df_time['departure'][i], df_time['arrival'][i])"
   ]
  },
  {
   "cell_type": "code",
   "execution_count": 178,
   "metadata": {},
   "outputs": [],
   "source": [
    "df_time_mark = df_time.copy()"
   ]
  },
  {
   "cell_type": "code",
   "execution_count": 179,
   "metadata": {},
   "outputs": [],
   "source": [
    "# df_time=df_time_mark"
   ]
  },
  {
   "cell_type": "code",
   "execution_count": 180,
   "metadata": {},
   "outputs": [
    {
     "name": "stderr",
     "output_type": "stream",
     "text": [
      "<ipython-input-180-534dd3440087>:4: SettingWithCopyWarning: \n",
      "A value is trying to be set on a copy of a slice from a DataFrame\n",
      "\n",
      "See the caveats in the documentation: https://pandas.pydata.org/pandas-docs/stable/user_guide/indexing.html#returning-a-view-versus-a-copy\n",
      "  df_time[df_time.columns[i+1]+'_wait'][j] = diff_time_minutes(df_time[df_time.columns[i+1]][j], df_time[df_time.columns[i]][j])\n"
     ]
    }
   ],
   "source": [
    "for i in range(len(df_time.columns)-2):\n",
    "    df_time[df_time.columns[i+1]+'_wait'] = 0\n",
    "    for j in range(df_time.shape[0]):\n",
    "        df_time[df_time.columns[i+1]+'_wait'][j] = diff_time_minutes(df_time[df_time.columns[i+1]][j], df_time[df_time.columns[i]][j]) "
   ]
  },
  {
   "cell_type": "code",
   "execution_count": 181,
   "metadata": {},
   "outputs": [],
   "source": [
    "weights_array_min = [1.5, 4.5, 5.5, 3.5, 1.5, 0.5]"
   ]
  },
  {
   "cell_type": "code",
   "execution_count": 182,
   "metadata": {},
   "outputs": [],
   "source": [
    "for i in range(len(df_time.columns)-8):\n",
    "    df_time[df_time.columns[i+1]+'_wait'+'_wgt'] = np.random.normal(0.5, 0.4, df_time.shape[0])+weights_array_min[i]"
   ]
  },
  {
   "cell_type": "code",
   "execution_count": 183,
   "metadata": {},
   "outputs": [],
   "source": [
    "df_time['Rating'] = 12-((((df_time['parking_entry_wait']*df_time['parking_entry_wait_wgt'])+(df_time['kiosk_wait']*df_time['kiosk_wait_wgt'])+(df_time['department_entrance_wait']*df_time['department_entrance_wait_wgt'])+(df_time['department_exit_wait']*df_time['department_exit_wait_wgt'])+(df_time['parking_exit_wait']*df_time['parking_exit_wait_wgt'])+(df_time['departure_wait']*df_time['departure_wait_wgt']))/635)*10)"
   ]
  },
  {
   "cell_type": "code",
   "execution_count": 184,
   "metadata": {},
   "outputs": [],
   "source": [
    "df_time['Rating'] = np.round(df_time['Rating'], 0)"
   ]
  },
  {
   "cell_type": "code",
   "execution_count": 185,
   "metadata": {},
   "outputs": [],
   "source": [
    "df_time.drop(columns=['parking_entry_wait_wgt', 'kiosk_wait_wgt',\n",
    "       'department_entrance_wait_wgt', 'department_exit_wait_wgt',\n",
    "       'parking_exit_wait_wgt', 'departure_wait_wgt'], inplace=True)"
   ]
  },
  {
   "cell_type": "code",
   "execution_count": 186,
   "metadata": {},
   "outputs": [],
   "source": [
    "# df_time.to_csv('D:/backup/Work_Extra/nawabkhan_fyp/time_generated.csv')"
   ]
  },
  {
   "cell_type": "code",
   "execution_count": 187,
   "metadata": {},
   "outputs": [],
   "source": [
    "df_time.to_csv('D:/backup/Work_Extra/nawabkhan_fyp/time_generated.csv', mode='a', header=False)"
   ]
  }
 ],
 "metadata": {
  "kernelspec": {
   "display_name": "Python 3",
   "language": "python",
   "name": "python3"
  },
  "language_info": {
   "codemirror_mode": {
    "name": "ipython",
    "version": 3
   },
   "file_extension": ".py",
   "mimetype": "text/x-python",
   "name": "python",
   "nbconvert_exporter": "python",
   "pygments_lexer": "ipython3",
   "version": "3.8.5"
  }
 },
 "nbformat": 4,
 "nbformat_minor": 4
}
