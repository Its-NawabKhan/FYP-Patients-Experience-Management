{
 "cells": [
  {
   "cell_type": "code",
   "execution_count": 260,
   "metadata": {},
   "outputs": [],
   "source": [
    "import numpy as np\n",
    "import pandas as pd\n",
    "import datetime\n",
    "import random"
   ]
  },
  {
   "cell_type": "code",
   "execution_count": 261,
   "metadata": {},
   "outputs": [],
   "source": [
    "def time_generator(n):\n",
    "    time_vals = np.round(np.random.random(n)*86399, 0)\n",
    "    new_time_list = []\n",
    "    for each in time_vals:\n",
    "        new_time_list.append(str(datetime.timedelta(seconds=each)))\n",
    "    return new_time_list"
   ]
  },
  {
   "cell_type": "code",
   "execution_count": 262,
   "metadata": {},
   "outputs": [],
   "source": [
    "def add_time(x, y):\n",
    "    init_time = datetime.datetime.strptime(x, '%H:%M:%S')\n",
    "    time_del = datetime.timedelta(hours= init_time.hour, minutes=init_time.minute, seconds=init_time.second).total_seconds()\n",
    "    next_time_secs = time_del + (y*60)\n",
    "    if next_time_secs > 86399:\n",
    "        next_time_secs = next_time_secs - 86400\n",
    "    new_time = str(datetime.timedelta(seconds=next_time_secs))\n",
    "    return new_time"
   ]
  },
  {
   "cell_type": "code",
   "execution_count": 263,
   "metadata": {},
   "outputs": [],
   "source": [
    "def diff_time(x, y):\n",
    "    init_time = datetime.datetime.strptime(x, '%H:%M:%S')\n",
    "    time_del1 = datetime.timedelta(hours= init_time.hour, minutes=init_time.minute, seconds=init_time.second).total_seconds()\n",
    "\n",
    "    init_time = datetime.datetime.strptime(y, '%H:%M:%S')\n",
    "    time_del2 = datetime.timedelta(hours= init_time.hour, minutes=init_time.minute, seconds=init_time.second).total_seconds()\n",
    "    if (time_del1 < time_del2):\n",
    "        time_secs = time_del1 - time_del2 + 86400\n",
    "    else:\n",
    "        time_secs = time_del1 - time_del2\n",
    "        \n",
    "    new_time = str(datetime.timedelta(seconds=time_secs))\n",
    "    return new_time"
   ]
  },
  {
   "cell_type": "code",
   "execution_count": 264,
   "metadata": {},
   "outputs": [],
   "source": [
    "def diff_time_minutes(x, y):\n",
    "    init_time = datetime.datetime.strptime(x, '%H:%M:%S')\n",
    "    time_del1 = datetime.timedelta(hours= init_time.hour, minutes=init_time.minute, seconds=init_time.second).total_seconds()\n",
    "\n",
    "    init_time = datetime.datetime.strptime(y, '%H:%M:%S')\n",
    "    time_del2 = datetime.timedelta(hours= init_time.hour, minutes=init_time.minute, seconds=init_time.second).total_seconds()\n",
    "    if (time_del1 < time_del2):\n",
    "        time_secs = time_del1 - time_del2 + 86400\n",
    "    else:\n",
    "        time_secs = time_del1 - time_del2\n",
    "    time_mins = time_secs/60\n",
    "    return time_mins"
   ]
  },
  {
   "cell_type": "code",
   "execution_count": 265,
   "metadata": {},
   "outputs": [],
   "source": [
    "def gen_wait_time(mu, std, num, act_num):\n",
    "    wait_time_1 = list(np.random.normal(mu, std, num))\n",
    "    wait_time_2 = [x for x in wait_time_1 if (mu-std) < x < (mu+std)]\n",
    "#     for each in wait_time_1:\n",
    "#         if ((each < 1) or (each > 9)):\n",
    "#             print(each)\n",
    "#             wait_time_1.remove(each)\n",
    "#     print(wait_time_2)\n",
    "    wait_time = np.round(np.random.choice(wait_time_2, act_num),0)\n",
    "    return wait_time"
   ]
  },
  {
   "cell_type": "code",
   "execution_count": 266,
   "metadata": {},
   "outputs": [],
   "source": [
    "df_time = pd.DataFrame()"
   ]
  },
  {
   "cell_type": "code",
   "execution_count": 267,
   "metadata": {},
   "outputs": [],
   "source": [
    "num_raw_samples = 3100\n",
    "num_actual_samples = 2000"
   ]
  },
  {
   "cell_type": "code",
   "execution_count": 268,
   "metadata": {
    "scrolled": true
   },
   "outputs": [],
   "source": [
    "df_time['arrival'] = time_generator(num_actual_samples)"
   ]
  },
  {
   "cell_type": "code",
   "execution_count": 269,
   "metadata": {},
   "outputs": [],
   "source": [
    "df_time['parking_entry'] = 0\n",
    "df_time['kiosk'] = 0\n",
    "df_time['department_entrance'] = 0\n",
    "df_time['department_exit'] = 0\n",
    "df_time['parking_exit'] = 0\n",
    "df_time['departure'] = 0\n",
    "df_time['visit_time'] = 0"
   ]
  },
  {
   "cell_type": "code",
   "execution_count": 270,
   "metadata": {
    "scrolled": true
   },
   "outputs": [],
   "source": [
    "parking_wait = gen_wait_time(5, 4, num_raw_samples, num_actual_samples)"
   ]
  },
  {
   "cell_type": "code",
   "execution_count": 271,
   "metadata": {},
   "outputs": [
    {
     "name": "stderr",
     "output_type": "stream",
     "text": [
      "<ipython-input-271-6d958e77733f>:2: SettingWithCopyWarning: \n",
      "A value is trying to be set on a copy of a slice from a DataFrame\n",
      "\n",
      "See the caveats in the documentation: https://pandas.pydata.org/pandas-docs/stable/user_guide/indexing.html#returning-a-view-versus-a-copy\n",
      "  df_time['parking_entry'][i] = add_time(df_time['arrival'][i], parking_wait[i])\n",
      "C:\\ProgramData\\Anaconda3\\lib\\site-packages\\pandas\\core\\indexing.py:670: SettingWithCopyWarning: \n",
      "A value is trying to be set on a copy of a slice from a DataFrame\n",
      "\n",
      "See the caveats in the documentation: https://pandas.pydata.org/pandas-docs/stable/user_guide/indexing.html#returning-a-view-versus-a-copy\n",
      "  iloc._setitem_with_indexer(indexer, value)\n"
     ]
    }
   ],
   "source": [
    "for i in range(df_time.shape[0]):\n",
    "    df_time['parking_entry'][i] = add_time(df_time['arrival'][i], parking_wait[i])"
   ]
  },
  {
   "cell_type": "code",
   "execution_count": 272,
   "metadata": {
    "scrolled": true
   },
   "outputs": [],
   "source": [
    "kiosk_wait = gen_wait_time(10, 7, num_raw_samples, num_actual_samples)"
   ]
  },
  {
   "cell_type": "code",
   "execution_count": 273,
   "metadata": {},
   "outputs": [
    {
     "name": "stderr",
     "output_type": "stream",
     "text": [
      "<ipython-input-273-e8412c845ae4>:2: SettingWithCopyWarning: \n",
      "A value is trying to be set on a copy of a slice from a DataFrame\n",
      "\n",
      "See the caveats in the documentation: https://pandas.pydata.org/pandas-docs/stable/user_guide/indexing.html#returning-a-view-versus-a-copy\n",
      "  df_time['kiosk'][i] = add_time(df_time['parking_entry'][i], kiosk_wait[i])\n"
     ]
    }
   ],
   "source": [
    "for i in range(df_time.shape[0]):\n",
    "    df_time['kiosk'][i] = add_time(df_time['parking_entry'][i], kiosk_wait[i])"
   ]
  },
  {
   "cell_type": "code",
   "execution_count": 274,
   "metadata": {
    "scrolled": true
   },
   "outputs": [],
   "source": [
    "dept_ent_wait = gen_wait_time(20, 15, num_raw_samples, num_actual_samples)"
   ]
  },
  {
   "cell_type": "code",
   "execution_count": 275,
   "metadata": {},
   "outputs": [
    {
     "name": "stderr",
     "output_type": "stream",
     "text": [
      "<ipython-input-275-a8e5f9c79418>:2: SettingWithCopyWarning: \n",
      "A value is trying to be set on a copy of a slice from a DataFrame\n",
      "\n",
      "See the caveats in the documentation: https://pandas.pydata.org/pandas-docs/stable/user_guide/indexing.html#returning-a-view-versus-a-copy\n",
      "  df_time['department_entrance'][i] = add_time(df_time['kiosk'][i], dept_ent_wait[i])\n"
     ]
    }
   ],
   "source": [
    "for i in range(df_time.shape[0]):\n",
    "    df_time['department_entrance'][i] = add_time(df_time['kiosk'][i], dept_ent_wait[i])"
   ]
  },
  {
   "cell_type": "code",
   "execution_count": 276,
   "metadata": {
    "scrolled": true
   },
   "outputs": [],
   "source": [
    "dept_ext_wait = gen_wait_time(45, 20, num_raw_samples, num_actual_samples)"
   ]
  },
  {
   "cell_type": "code",
   "execution_count": 277,
   "metadata": {},
   "outputs": [],
   "source": [
    "# df_time.where(df_time['department_entrance'] == '-1 day, 23:56:28').dropna()"
   ]
  },
  {
   "cell_type": "code",
   "execution_count": 278,
   "metadata": {},
   "outputs": [
    {
     "name": "stderr",
     "output_type": "stream",
     "text": [
      "<ipython-input-278-47d2e54daa99>:2: SettingWithCopyWarning: \n",
      "A value is trying to be set on a copy of a slice from a DataFrame\n",
      "\n",
      "See the caveats in the documentation: https://pandas.pydata.org/pandas-docs/stable/user_guide/indexing.html#returning-a-view-versus-a-copy\n",
      "  df_time['department_exit'][i] = add_time(df_time['department_entrance'][i], dept_ext_wait[i])\n"
     ]
    }
   ],
   "source": [
    "for i in range(df_time.shape[0]):\n",
    "    df_time['department_exit'][i] = add_time(df_time['department_entrance'][i], dept_ext_wait[i])"
   ]
  },
  {
   "cell_type": "code",
   "execution_count": 279,
   "metadata": {
    "scrolled": true
   },
   "outputs": [],
   "source": [
    "parking_ext_wait = gen_wait_time(10, 7, num_raw_samples, num_actual_samples)"
   ]
  },
  {
   "cell_type": "code",
   "execution_count": 280,
   "metadata": {},
   "outputs": [
    {
     "name": "stderr",
     "output_type": "stream",
     "text": [
      "<ipython-input-280-0652e63f37ee>:2: SettingWithCopyWarning: \n",
      "A value is trying to be set on a copy of a slice from a DataFrame\n",
      "\n",
      "See the caveats in the documentation: https://pandas.pydata.org/pandas-docs/stable/user_guide/indexing.html#returning-a-view-versus-a-copy\n",
      "  df_time['parking_exit'][i] = add_time(df_time['department_exit'][i], parking_ext_wait[i])\n"
     ]
    }
   ],
   "source": [
    "for i in range(df_time.shape[0]):\n",
    "    df_time['parking_exit'][i] = add_time(df_time['department_exit'][i], parking_ext_wait[i])"
   ]
  },
  {
   "cell_type": "code",
   "execution_count": 281,
   "metadata": {
    "scrolled": true
   },
   "outputs": [],
   "source": [
    "departure_wait = gen_wait_time(5, 4, num_raw_samples, num_actual_samples)"
   ]
  },
  {
   "cell_type": "code",
   "execution_count": 282,
   "metadata": {},
   "outputs": [
    {
     "name": "stderr",
     "output_type": "stream",
     "text": [
      "<ipython-input-282-07ff92a463cf>:2: SettingWithCopyWarning: \n",
      "A value is trying to be set on a copy of a slice from a DataFrame\n",
      "\n",
      "See the caveats in the documentation: https://pandas.pydata.org/pandas-docs/stable/user_guide/indexing.html#returning-a-view-versus-a-copy\n",
      "  df_time['departure'][i] = add_time(df_time['parking_exit'][i], departure_wait[i])\n"
     ]
    }
   ],
   "source": [
    "for i in range(df_time.shape[0]):\n",
    "    df_time['departure'][i] = add_time(df_time['parking_exit'][i], departure_wait[i])"
   ]
  },
  {
   "cell_type": "code",
   "execution_count": 283,
   "metadata": {},
   "outputs": [
    {
     "name": "stderr",
     "output_type": "stream",
     "text": [
      "<ipython-input-283-6d976526df0d>:2: SettingWithCopyWarning: \n",
      "A value is trying to be set on a copy of a slice from a DataFrame\n",
      "\n",
      "See the caveats in the documentation: https://pandas.pydata.org/pandas-docs/stable/user_guide/indexing.html#returning-a-view-versus-a-copy\n",
      "  df_time['visit_time'][i] = diff_time_minutes(df_time['departure'][i], df_time['arrival'][i])\n"
     ]
    }
   ],
   "source": [
    "for i in range(df_time.shape[0]):\n",
    "    df_time['visit_time'][i] = diff_time_minutes(df_time['departure'][i], df_time['arrival'][i])"
   ]
  },
  {
   "cell_type": "code",
   "execution_count": 284,
   "metadata": {},
   "outputs": [],
   "source": [
    "df_time_mark = df_time.copy()"
   ]
  },
  {
   "cell_type": "code",
   "execution_count": 285,
   "metadata": {},
   "outputs": [
    {
     "data": {
      "text/html": [
       "<div>\n",
       "<style scoped>\n",
       "    .dataframe tbody tr th:only-of-type {\n",
       "        vertical-align: middle;\n",
       "    }\n",
       "\n",
       "    .dataframe tbody tr th {\n",
       "        vertical-align: top;\n",
       "    }\n",
       "\n",
       "    .dataframe thead th {\n",
       "        text-align: right;\n",
       "    }\n",
       "</style>\n",
       "<table border=\"1\" class=\"dataframe\">\n",
       "  <thead>\n",
       "    <tr style=\"text-align: right;\">\n",
       "      <th></th>\n",
       "      <th>arrival</th>\n",
       "      <th>parking_entry</th>\n",
       "      <th>kiosk</th>\n",
       "      <th>department_entrance</th>\n",
       "      <th>department_exit</th>\n",
       "      <th>parking_exit</th>\n",
       "      <th>departure</th>\n",
       "      <th>visit_time</th>\n",
       "    </tr>\n",
       "  </thead>\n",
       "  <tbody>\n",
       "    <tr>\n",
       "      <th>0</th>\n",
       "      <td>10:11:06</td>\n",
       "      <td>10:14:06</td>\n",
       "      <td>10:26:06</td>\n",
       "      <td>10:55:06</td>\n",
       "      <td>11:25:06</td>\n",
       "      <td>11:32:06</td>\n",
       "      <td>11:35:06</td>\n",
       "      <td>84</td>\n",
       "    </tr>\n",
       "    <tr>\n",
       "      <th>1</th>\n",
       "      <td>3:32:53</td>\n",
       "      <td>3:36:53</td>\n",
       "      <td>3:45:53</td>\n",
       "      <td>4:00:53</td>\n",
       "      <td>4:40:53</td>\n",
       "      <td>4:51:53</td>\n",
       "      <td>4:56:53</td>\n",
       "      <td>84</td>\n",
       "    </tr>\n",
       "    <tr>\n",
       "      <th>2</th>\n",
       "      <td>6:03:56</td>\n",
       "      <td>6:09:56</td>\n",
       "      <td>6:17:56</td>\n",
       "      <td>6:36:56</td>\n",
       "      <td>7:12:56</td>\n",
       "      <td>7:23:56</td>\n",
       "      <td>7:29:56</td>\n",
       "      <td>86</td>\n",
       "    </tr>\n",
       "    <tr>\n",
       "      <th>3</th>\n",
       "      <td>7:38:00</td>\n",
       "      <td>7:40:00</td>\n",
       "      <td>7:51:00</td>\n",
       "      <td>7:59:00</td>\n",
       "      <td>8:44:00</td>\n",
       "      <td>8:58:00</td>\n",
       "      <td>9:03:00</td>\n",
       "      <td>85</td>\n",
       "    </tr>\n",
       "    <tr>\n",
       "      <th>4</th>\n",
       "      <td>0:39:04</td>\n",
       "      <td>0:43:04</td>\n",
       "      <td>0:48:04</td>\n",
       "      <td>1:02:04</td>\n",
       "      <td>1:56:04</td>\n",
       "      <td>2:02:04</td>\n",
       "      <td>2:04:04</td>\n",
       "      <td>85</td>\n",
       "    </tr>\n",
       "    <tr>\n",
       "      <th>...</th>\n",
       "      <td>...</td>\n",
       "      <td>...</td>\n",
       "      <td>...</td>\n",
       "      <td>...</td>\n",
       "      <td>...</td>\n",
       "      <td>...</td>\n",
       "      <td>...</td>\n",
       "      <td>...</td>\n",
       "    </tr>\n",
       "    <tr>\n",
       "      <th>1995</th>\n",
       "      <td>16:37:31</td>\n",
       "      <td>16:40:31</td>\n",
       "      <td>16:53:31</td>\n",
       "      <td>17:05:31</td>\n",
       "      <td>17:32:31</td>\n",
       "      <td>17:36:31</td>\n",
       "      <td>17:40:31</td>\n",
       "      <td>63</td>\n",
       "    </tr>\n",
       "    <tr>\n",
       "      <th>1996</th>\n",
       "      <td>19:45:07</td>\n",
       "      <td>19:47:07</td>\n",
       "      <td>20:01:07</td>\n",
       "      <td>20:09:07</td>\n",
       "      <td>21:05:07</td>\n",
       "      <td>21:12:07</td>\n",
       "      <td>21:19:07</td>\n",
       "      <td>94</td>\n",
       "    </tr>\n",
       "    <tr>\n",
       "      <th>1997</th>\n",
       "      <td>7:56:13</td>\n",
       "      <td>7:58:13</td>\n",
       "      <td>8:07:13</td>\n",
       "      <td>8:33:13</td>\n",
       "      <td>9:26:13</td>\n",
       "      <td>9:36:13</td>\n",
       "      <td>9:45:13</td>\n",
       "      <td>109</td>\n",
       "    </tr>\n",
       "    <tr>\n",
       "      <th>1998</th>\n",
       "      <td>22:08:24</td>\n",
       "      <td>22:15:24</td>\n",
       "      <td>22:25:24</td>\n",
       "      <td>22:39:24</td>\n",
       "      <td>23:41:24</td>\n",
       "      <td>23:46:24</td>\n",
       "      <td>23:47:24</td>\n",
       "      <td>99</td>\n",
       "    </tr>\n",
       "    <tr>\n",
       "      <th>1999</th>\n",
       "      <td>6:30:27</td>\n",
       "      <td>6:37:27</td>\n",
       "      <td>6:47:27</td>\n",
       "      <td>7:08:27</td>\n",
       "      <td>7:51:27</td>\n",
       "      <td>8:05:27</td>\n",
       "      <td>8:10:27</td>\n",
       "      <td>100</td>\n",
       "    </tr>\n",
       "  </tbody>\n",
       "</table>\n",
       "<p>2000 rows × 8 columns</p>\n",
       "</div>"
      ],
      "text/plain": [
       "       arrival parking_entry     kiosk department_entrance department_exit  \\\n",
       "0     10:11:06      10:14:06  10:26:06            10:55:06        11:25:06   \n",
       "1      3:32:53       3:36:53   3:45:53             4:00:53         4:40:53   \n",
       "2      6:03:56       6:09:56   6:17:56             6:36:56         7:12:56   \n",
       "3      7:38:00       7:40:00   7:51:00             7:59:00         8:44:00   \n",
       "4      0:39:04       0:43:04   0:48:04             1:02:04         1:56:04   \n",
       "...        ...           ...       ...                 ...             ...   \n",
       "1995  16:37:31      16:40:31  16:53:31            17:05:31        17:32:31   \n",
       "1996  19:45:07      19:47:07  20:01:07            20:09:07        21:05:07   \n",
       "1997   7:56:13       7:58:13   8:07:13             8:33:13         9:26:13   \n",
       "1998  22:08:24      22:15:24  22:25:24            22:39:24        23:41:24   \n",
       "1999   6:30:27       6:37:27   6:47:27             7:08:27         7:51:27   \n",
       "\n",
       "     parking_exit departure  visit_time  \n",
       "0        11:32:06  11:35:06          84  \n",
       "1         4:51:53   4:56:53          84  \n",
       "2         7:23:56   7:29:56          86  \n",
       "3         8:58:00   9:03:00          85  \n",
       "4         2:02:04   2:04:04          85  \n",
       "...           ...       ...         ...  \n",
       "1995     17:36:31  17:40:31          63  \n",
       "1996     21:12:07  21:19:07          94  \n",
       "1997      9:36:13   9:45:13         109  \n",
       "1998     23:46:24  23:47:24          99  \n",
       "1999      8:05:27   8:10:27         100  \n",
       "\n",
       "[2000 rows x 8 columns]"
      ]
     },
     "execution_count": 285,
     "metadata": {},
     "output_type": "execute_result"
    }
   ],
   "source": [
    "df_time"
   ]
  },
  {
   "cell_type": "code",
   "execution_count": 286,
   "metadata": {},
   "outputs": [],
   "source": [
    "# df_time=df_time_mark"
   ]
  },
  {
   "cell_type": "code",
   "execution_count": 287,
   "metadata": {},
   "outputs": [
    {
     "name": "stderr",
     "output_type": "stream",
     "text": [
      "<ipython-input-287-534dd3440087>:4: SettingWithCopyWarning: \n",
      "A value is trying to be set on a copy of a slice from a DataFrame\n",
      "\n",
      "See the caveats in the documentation: https://pandas.pydata.org/pandas-docs/stable/user_guide/indexing.html#returning-a-view-versus-a-copy\n",
      "  df_time[df_time.columns[i+1]+'_wait'][j] = diff_time_minutes(df_time[df_time.columns[i+1]][j], df_time[df_time.columns[i]][j])\n"
     ]
    }
   ],
   "source": [
    "for i in range(len(df_time.columns)-2):\n",
    "    df_time[df_time.columns[i+1]+'_wait'] = 0\n",
    "    for j in range(df_time.shape[0]):\n",
    "        df_time[df_time.columns[i+1]+'_wait'][j] = diff_time_minutes(df_time[df_time.columns[i+1]][j], df_time[df_time.columns[i]][j]) "
   ]
  },
  {
   "cell_type": "code",
   "execution_count": 288,
   "metadata": {},
   "outputs": [],
   "source": [
    "weights_array_min = [0.088, 0.265, 0.324, 0.206, 0.088, 0.029]"
   ]
  },
  {
   "cell_type": "code",
   "execution_count": 289,
   "metadata": {},
   "outputs": [],
   "source": [
    "# np.random.normal(0.5, 0.4, df_time.shape[0])+\n",
    "for i in range(len(df_time.columns)-8):\n",
    "    df_time[df_time.columns[i+1]+'_wait'+'_wgt'] = weights_array_min[i]"
   ]
  },
  {
   "cell_type": "code",
   "execution_count": 290,
   "metadata": {},
   "outputs": [],
   "source": [
    "df_time['Rating'] = np.floor((((df_time['parking_entry_wait']*df_time['parking_entry_wait_wgt'])+(df_time['kiosk_wait']*df_time['kiosk_wait_wgt'])+(df_time['department_entrance_wait']*df_time['department_entrance_wait_wgt'])+(df_time['department_exit_wait']*df_time['department_exit_wait_wgt'])+(df_time['parking_exit_wait']*df_time['parking_exit_wait_wgt'])+(df_time['departure_wait']*df_time['departure_wait_wgt']))/30)*10)"
   ]
  },
  {
   "cell_type": "code",
   "execution_count": 291,
   "metadata": {},
   "outputs": [
    {
     "data": {
      "text/plain": [
       "count    2000.000000\n",
       "mean        6.100000\n",
       "std         1.293768\n",
       "min         3.000000\n",
       "25%         5.000000\n",
       "50%         6.000000\n",
       "75%         7.000000\n",
       "max        10.000000\n",
       "Name: Rating, dtype: float64"
      ]
     },
     "execution_count": 291,
     "metadata": {},
     "output_type": "execute_result"
    }
   ],
   "source": [
    "df_time['Rating'].describe()"
   ]
  },
  {
   "cell_type": "code",
   "execution_count": 292,
   "metadata": {},
   "outputs": [],
   "source": [
    "df_time['Rating'] = np.round(df_time['Rating'], 0)"
   ]
  },
  {
   "cell_type": "code",
   "execution_count": 293,
   "metadata": {},
   "outputs": [],
   "source": [
    "df_time.drop(columns=['parking_entry_wait_wgt', 'kiosk_wait_wgt',\n",
    "       'department_entrance_wait_wgt', 'department_exit_wait_wgt',\n",
    "       'parking_exit_wait_wgt', 'departure_wait_wgt'], inplace=True)"
   ]
  },
  {
   "cell_type": "code",
   "execution_count": 294,
   "metadata": {},
   "outputs": [],
   "source": [
    "base = datetime.datetime.today()\n",
    "date_r = [base- datetime.timedelta(days=x) for x in range(10)]\n",
    "date_a = [x.strftime('%Y-%m-%d') for x in date_r]"
   ]
  },
  {
   "cell_type": "code",
   "execution_count": 295,
   "metadata": {},
   "outputs": [
    {
     "name": "stderr",
     "output_type": "stream",
     "text": [
      "<ipython-input-295-e13c302f4997>:3: SettingWithCopyWarning: \n",
      "A value is trying to be set on a copy of a slice from a DataFrame\n",
      "\n",
      "See the caveats in the documentation: https://pandas.pydata.org/pandas-docs/stable/user_guide/indexing.html#returning-a-view-versus-a-copy\n",
      "  df_time['Date'][i]=random.choice(date_a)\n",
      "C:\\ProgramData\\Anaconda3\\lib\\site-packages\\pandas\\core\\indexing.py:670: SettingWithCopyWarning: \n",
      "A value is trying to be set on a copy of a slice from a DataFrame\n",
      "\n",
      "See the caveats in the documentation: https://pandas.pydata.org/pandas-docs/stable/user_guide/indexing.html#returning-a-view-versus-a-copy\n",
      "  iloc._setitem_with_indexer(indexer, value)\n"
     ]
    }
   ],
   "source": [
    "df_time['Date']=0\n",
    "for i in range(df_time.shape[0]):\n",
    "    df_time['Date'][i]=random.choice(date_a)"
   ]
  },
  {
   "cell_type": "code",
   "execution_count": 298,
   "metadata": {},
   "outputs": [],
   "source": [
    "# df_time.to_csv('D:/backup/Work_Extra/nawabkhan_fyp/time_generated.csv')"
   ]
  },
  {
   "cell_type": "code",
   "execution_count": 297,
   "metadata": {},
   "outputs": [],
   "source": [
    "df_time.to_csv('D:/backup/Work_Extra/nawabkhan_fyp/time_generated.csv', mode='a', header=False)"
   ]
  }
 ],
 "metadata": {
  "kernelspec": {
   "display_name": "Python 3",
   "language": "python",
   "name": "python3"
  },
  "language_info": {
   "codemirror_mode": {
    "name": "ipython",
    "version": 3
   },
   "file_extension": ".py",
   "mimetype": "text/x-python",
   "name": "python",
   "nbconvert_exporter": "python",
   "pygments_lexer": "ipython3",
   "version": "3.8.5"
  }
 },
 "nbformat": 4,
 "nbformat_minor": 4
}
